{
 "cells": [
  {
   "cell_type": "markdown",
   "metadata": {},
   "source": [
    "# Python Homework 2\n",
    "- Due Friday Sept 20 at 10am"
   ]
  },
  {
   "cell_type": "markdown",
   "metadata": {},
   "source": [
    "# Note\n",
    "- the code for each problem is pretty short, so if you are doing something complicated, think again or get some help"
   ]
  },
  {
   "cell_type": "markdown",
   "metadata": {},
   "source": [
    "# Problem 1a - define function 'dot'\n",
    "- computes the standard 'dot products' \n",
    "between two lists \n",
    "- example: dot([1,2,3], [4,5,6]) = $$1 * 4 + 2 * 5 + 3 * 6 = 32$$\n",
    "- if one vector is longer than the other, the extra elements are ignored"
   ]
  },
  {
   "cell_type": "code",
   "execution_count": 1,
   "metadata": {},
   "outputs": [],
   "source": [
    "def dot(tv0, tv1):\n",
    "    vec_len = min(len(tv0),len(tv1))\n",
    "    product = [tv0[i]*tv1[i] for i in range(vec_len)]\n",
    "    return sum(product)"
   ]
  },
  {
   "cell_type": "code",
   "execution_count": 2,
   "metadata": {},
   "outputs": [],
   "source": [
    "# test vectors for Problem 1 a,b,c,d\n",
    "\n",
    "tv0 = [1,2,3]\n",
    "tv1 = [4,5,6,7,8,9]"
   ]
  },
  {
   "cell_type": "code",
   "execution_count": 3,
   "metadata": {},
   "outputs": [
    {
     "data": {
      "text/plain": [
       "32"
      ]
     },
     "execution_count": 3,
     "metadata": {},
     "output_type": "execute_result"
    }
   ],
   "source": [
    "# the 7,8,9 elements are ignored because zip stops when the shorter list is exhausted\n",
    "\n",
    "dot(tv0, tv1)"
   ]
  },
  {
   "cell_type": "markdown",
   "metadata": {},
   "source": [
    "# Problem 1b - define function 'shortlong' - puts things in a 'cannonical form' \n",
    "- takes two vectors, and returns in a list the shorter vector, the short vector length, the long vector, and the long vector length"
   ]
  },
  {
   "cell_type": "code",
   "execution_count": 4,
   "metadata": {},
   "outputs": [],
   "source": [
    "def shortlong(tv0,tv1):\n",
    "    if len(tv0) <= len(tv1):\n",
    "        return [tv0, len(tv0), tv1, len(tv1)]\n",
    "    else:\n",
    "        return [tv1, len(tv1), tv0, len(tv0)]"
   ]
  },
  {
   "cell_type": "code",
   "execution_count": 5,
   "metadata": {},
   "outputs": [
    {
     "data": {
      "text/plain": [
       "[[1, 2, 3], 3, [4, 5, 6, 7, 8, 9], 6]"
      ]
     },
     "execution_count": 5,
     "metadata": {},
     "output_type": "execute_result"
    }
   ],
   "source": [
    "shortlong(tv0, tv1)"
   ]
  },
  {
   "cell_type": "code",
   "execution_count": 6,
   "metadata": {},
   "outputs": [
    {
     "data": {
      "text/plain": [
       "[[1, 2, 3], 3, [4, 5, 6, 7, 8, 9], 6]"
      ]
     },
     "execution_count": 6,
     "metadata": {},
     "output_type": "execute_result"
    }
   ],
   "source": [
    "shortlong(tv1, tv0)"
   ]
  },
  {
   "cell_type": "markdown",
   "metadata": {},
   "source": [
    "# Problem 1c - define function 'dotmv'\n",
    "- more flexible version of 'dot'\n",
    "- 'dotmv' takes an extra 'offset' arg, which moves the shorter vector to the right\n",
    "- use 'shortlong' and 'dot'\n",
    "- dotmv(tv0, tv1, 2) = $$1 * 6 + 2 * 7 + 3 * 8$$"
   ]
  },
  {
   "cell_type": "code",
   "execution_count": 7,
   "metadata": {},
   "outputs": [],
   "source": [
    "def dotmv(tv0,tv1,n):\n",
    "    tv0, _, tv1, _ = shortlong(tv0, tv1)\n",
    "    tv1 = tv1[n:] + tv1[:n]\n",
    "    return dot(tv0, tv1)"
   ]
  },
  {
   "cell_type": "code",
   "execution_count": 8,
   "metadata": {},
   "outputs": [
    {
     "data": {
      "text/plain": [
       "[32, 38, 44]"
      ]
     },
     "execution_count": 8,
     "metadata": {},
     "output_type": "execute_result"
    }
   ],
   "source": [
    "[dotmv(tv0, tv1, 0), dotmv(tv0, tv1, 1), dotmv(tv0, tv1, 2)]"
   ]
  },
  {
   "cell_type": "markdown",
   "metadata": {},
   "source": [
    "# Problem 1d - define function 'dotpad' \n",
    "- another version of 'dot'\n",
    "- 'dotpad' takes a pad arg\n",
    "- if one vector is shorter, it is padded on the right with the pad value\n",
    "- use 'shortlong' and 'dot'\n",
    "- don't modify the input vectors\n",
    "- dotpad(tv0, tv1,1) = dot([1,2,3,1,1,1], [4,5,6,7,8,9])"
   ]
  },
  {
   "cell_type": "code",
   "execution_count": 9,
   "metadata": {},
   "outputs": [],
   "source": [
    "def dotpad(tv0, tv1, pad):\n",
    "    [vec0, len0, vec1, len1] = shortlong(tv0, tv1)\n",
    "    vec0 = [vec0[i] if i < len0 else pad for i in range(len1)]\n",
    "    return dot(vec0, vec1)"
   ]
  },
  {
   "cell_type": "code",
   "execution_count": 10,
   "metadata": {},
   "outputs": [],
   "source": [
    "tv0 = [1,2,3]\n",
    "tv1 = [4,5,6,7,8,9]"
   ]
  },
  {
   "cell_type": "code",
   "execution_count": 11,
   "metadata": {},
   "outputs": [
    {
     "data": {
      "text/plain": [
       "[32, 56, 80]"
      ]
     },
     "execution_count": 11,
     "metadata": {},
     "output_type": "execute_result"
    }
   ],
   "source": [
    "[dotpad(tv0,tv1,j) for j in [0,1,2]]"
   ]
  },
  {
   "cell_type": "markdown",
   "metadata": {},
   "source": [
    "# Problem 2 - define function 'partition'\n",
    "- divides a list into segments\n",
    "- first arg is the input list\n",
    "- second arg is the length of each segment. if there are not enough list elements to make a final segment of length n, they are discarded\n",
    "- third arg is how many list elements should overlap btw adjacent segments\n",
    "- remember range is range(inclusive, exclusive), range[0,2] => [0,1]\n",
    "- might want to use 'while' instead of 'for'"
   ]
  },
  {
   "cell_type": "code",
   "execution_count": 12,
   "metadata": {},
   "outputs": [],
   "source": [
    "def partition(input_lst, seg_len, overlap):\n",
    "    i = 0\n",
    "    lst = []\n",
    "    while (i + seg_len) <= len(input_lst):\n",
    "        lst.append(input_lst[i:i+seg_len])\n",
    "        i += (seg_len - overlap)\n",
    "    return lst"
   ]
  },
  {
   "cell_type": "code",
   "execution_count": 13,
   "metadata": {},
   "outputs": [
    {
     "data": {
      "text/plain": [
       "[[0, 1], [2, 3], [4, 5], [6, 7], [8, 9]]"
      ]
     },
     "execution_count": 13,
     "metadata": {},
     "output_type": "execute_result"
    }
   ],
   "source": [
    "partition(list(range(10)), 2, 0)"
   ]
  },
  {
   "cell_type": "code",
   "execution_count": 14,
   "metadata": {},
   "outputs": [
    {
     "data": {
      "text/plain": [
       "[[0, 1, 2], [3, 4, 5], [6, 7, 8]]"
      ]
     },
     "execution_count": 14,
     "metadata": {},
     "output_type": "execute_result"
    }
   ],
   "source": [
    "# only want length 3 partitions, so 9 was discarded\n",
    "\n",
    "partition(list(range(10)), 3, 0)"
   ]
  },
  {
   "cell_type": "code",
   "execution_count": 15,
   "metadata": {},
   "outputs": [
    {
     "data": {
      "text/plain": [
       "[[0, 1], [1, 2], [2, 3], [3, 4], [4, 5], [5, 6], [6, 7], [7, 8], [8, 9]]"
      ]
     },
     "execution_count": 15,
     "metadata": {},
     "output_type": "execute_result"
    }
   ],
   "source": [
    "partition(list(range(10)), 2, 1)"
   ]
  },
  {
   "cell_type": "code",
   "execution_count": 16,
   "metadata": {},
   "outputs": [
    {
     "data": {
      "text/plain": [
       "[[0, 1, 2, 3], [4, 5, 6, 7]]"
      ]
     },
     "execution_count": 16,
     "metadata": {},
     "output_type": "execute_result"
    }
   ],
   "source": [
    "partition(list(range(10)), 4, 0)"
   ]
  },
  {
   "cell_type": "code",
   "execution_count": 17,
   "metadata": {},
   "outputs": [
    {
     "data": {
      "text/plain": [
       "[[0, 1, 2, 3],\n",
       " [1, 2, 3, 4],\n",
       " [2, 3, 4, 5],\n",
       " [3, 4, 5, 6],\n",
       " [4, 5, 6, 7],\n",
       " [5, 6, 7, 8],\n",
       " [6, 7, 8, 9]]"
      ]
     },
     "execution_count": 17,
     "metadata": {},
     "output_type": "execute_result"
    }
   ],
   "source": [
    "partition(list(range(10)), 4, 3)"
   ]
  },
  {
   "cell_type": "markdown",
   "metadata": {},
   "source": [
    "# Problem 3 - define functions rlencode(lst), rldecode(lst)\n",
    "- run length encoding is a simple scheme for lossless compression\n",
    "- compress a list by making a list of ```[element, count]```\n",
    "items, so runs of repeats take less storage\n",
    "- rlencode compresses a list\n",
    "- rldecode recovers the exact original list"
   ]
  },
  {
   "cell_type": "code",
   "execution_count": 18,
   "metadata": {},
   "outputs": [],
   "source": [
    "def rlencode(seq):\n",
    "    i = 0\n",
    "    lst = []\n",
    "    while i < len(seq):\n",
    "        element = seq[i]\n",
    "        count = seq.count(element)\n",
    "        lst.append([element, count])\n",
    "        i += count\n",
    "    return lst"
   ]
  },
  {
   "cell_type": "code",
   "execution_count": 19,
   "metadata": {},
   "outputs": [],
   "source": [
    "def rldecode(enc):\n",
    "    lst = []\n",
    "    for [element, count] in enc:\n",
    "        lst += [element] * count\n",
    "    return lst"
   ]
  },
  {
   "cell_type": "code",
   "execution_count": 20,
   "metadata": {},
   "outputs": [
    {
     "data": {
      "text/plain": [
       "[[1, 2], [2, 1], [5, 1], [3, 4], [7, 1]]"
      ]
     },
     "execution_count": 20,
     "metadata": {},
     "output_type": "execute_result"
    }
   ],
   "source": [
    "seq = [1,1,2,5,3,3,3,3,7]\n",
    "enc=rlencode(seq)\n",
    "enc"
   ]
  },
  {
   "cell_type": "code",
   "execution_count": 21,
   "metadata": {},
   "outputs": [
    {
     "data": {
      "text/plain": [
       "[1, 1, 2, 5, 3, 3, 3, 3, 7]"
      ]
     },
     "execution_count": 21,
     "metadata": {},
     "output_type": "execute_result"
    }
   ],
   "source": [
    "rldecode(enc)"
   ]
  },
  {
   "cell_type": "markdown",
   "metadata": {},
   "source": [
    "# Problem 4 - define encrypt and decrypt\n",
    "- encryption again!\n",
    "- the NSA refused to buy my previous algorithm, saying that it \"was not weird enough\". hmm - ok\n",
    "- the output of the encoder is a list of objects\n",
    "- vowels('aeiou') and space(' ') are encoded by objects of a certain type\n",
    "    - the 2nd arg to encrypt specifies the type to object mapping\n",
    "- the other ascii lower case chars are represented by their integer index into the lower case chars\n",
    "- hints\n",
    "    - once you understand the problem, the actual code is very simple, less than 10 lines for my version\n",
    "    - you may find it convenient to use a helper function. for example i define 'decode' and 'decode2'. decode calls decode2\n",
    "    - you may find it convenient to derive a new dict from t2c by swapping the keys and values"
   ]
  },
  {
   "cell_type": "code",
   "execution_count": 22,
   "metadata": {},
   "outputs": [
    {
     "data": {
      "text/plain": [
       "'abcdefghijklmnopqrstuvwxyz'"
      ]
     },
     "execution_count": 22,
     "metadata": {},
     "output_type": "execute_result"
    }
   ],
   "source": [
    "import string\n",
    "\n",
    "string.ascii_lowercase"
   ]
  },
  {
   "cell_type": "code",
   "execution_count": 23,
   "metadata": {},
   "outputs": [],
   "source": [
    "# map types into chars\n",
    "t2c = {list: 'a', tuple: 'e', str: 'i', set: 'o', dict: 'u', float: ' '}\n",
    "\n",
    "# map types into objects\n",
    "t2o = {list: [4], tuple: (1,2), str: 'foo', set:set([1,2]), dict: '{}', float: 3.14}"
   ]
  },
  {
   "cell_type": "code",
   "execution_count": 24,
   "metadata": {},
   "outputs": [],
   "source": [
    "t2c2 = {val:key for key, val in t2c.items()}"
   ]
  },
  {
   "cell_type": "code",
   "execution_count": 25,
   "metadata": {},
   "outputs": [],
   "source": [
    "def encode(msg, encoder):\n",
    "    enc = []\n",
    "    for c in msg:\n",
    "        if c in 'aeiou ':\n",
    "            enc.append(encoder[t2c2[c]])\n",
    "        else:\n",
    "            enc.append(string.ascii_lowercase.index(c))\n",
    "    return enc"
   ]
  },
  {
   "cell_type": "code",
   "execution_count": 26,
   "metadata": {},
   "outputs": [],
   "source": [
    "def decode(enc):\n",
    "    dec = []\n",
    "    for element in enc:\n",
    "        if type(element) == int:\n",
    "            dec.append(string.ascii_lowercase[element])\n",
    "        else:\n",
    "            dec.append(t2c[type(element)])\n",
    "    return ''.join(dec)\n",
    "            "
   ]
  },
  {
   "cell_type": "code",
   "execution_count": 27,
   "metadata": {},
   "outputs": [
    {
     "data": {
      "text/plain": [
       "[[4], 1]"
      ]
     },
     "execution_count": 27,
     "metadata": {},
     "output_type": "execute_result"
    }
   ],
   "source": [
    "# t2c specifies 'a' is encoded by an object of type 'list'. t2o specifies 'list' will be \n",
    "# represented by the list [4]\n",
    "# 'b' is not a vowel, so it is represented by its index into the lower case chars\n",
    "\n",
    "encode('ab', t2o)"
   ]
  },
  {
   "cell_type": "code",
   "execution_count": 28,
   "metadata": {},
   "outputs": [
    {
     "name": "stdout",
     "output_type": "stream",
     "text": [
      "[{1, 2}, 11, 3, 3.14, 12, 2, 3, {1, 2}, 13, [4], 11, 3, 3.14, 7, [4], 3, 3.14, [4], 3.14, 5, [4], 17, 12]\n"
     ]
    }
   ],
   "source": [
    "msg = 'old mcdonald had a farm'\n",
    "\n",
    "enc = encode(msg, t2o)\n",
    "print(enc)"
   ]
  },
  {
   "cell_type": "code",
   "execution_count": 29,
   "metadata": {},
   "outputs": [
    {
     "data": {
      "text/plain": [
       "'old mcdonald had a farm'"
      ]
     },
     "execution_count": 29,
     "metadata": {},
     "output_type": "execute_result"
    }
   ],
   "source": [
    "decode(enc)"
   ]
  },
  {
   "cell_type": "code",
   "execution_count": 30,
   "metadata": {},
   "outputs": [
    {
     "name": "stdout",
     "output_type": "stream",
     "text": [
      "[{233, 11}, 11, 3, 2.71, 12, 2, 3, {233, 11}, 13, [5, 6], 11, 3, 2.71, 7, [5, 6], 3, 2.71, [5, 6], 2.71, 5, [5, 6], 17, 12]\n"
     ]
    }
   ],
   "source": [
    "# a different class:object mapping\n",
    "\n",
    "t2o2 = {list: [5,6], tuple: (2,1), str: 'bar', set:set([11,233]), dict: '{3:8}', float: 2.71}\n",
    "\n",
    "enc2 = encode(msg, t2o2)\n",
    "print(enc2)"
   ]
  },
  {
   "cell_type": "code",
   "execution_count": 31,
   "metadata": {},
   "outputs": [
    {
     "data": {
      "text/plain": [
       "'old mcdonald had a farm'"
      ]
     },
     "execution_count": 31,
     "metadata": {},
     "output_type": "execute_result"
    }
   ],
   "source": [
    "# note decode doesn't need to know what type to object map that encode used\n",
    "\n",
    "decode(enc2)"
   ]
  },
  {
   "cell_type": "markdown",
   "metadata": {},
   "source": [
    "# Problem 5 - Convert DNA to Amino Acids\n",
    "- dna is a string of DNA bases\n",
    "- each successive 3 bases in DNA defines an amino acid\n",
    "- convert the dna_amino string to a dict called 'aa'"
   ]
  },
  {
   "cell_type": "code",
   "execution_count": 33,
   "metadata": {},
   "outputs": [],
   "source": [
    "dna_amino='''\n",
    "TTT F      CTT L      ATT I      GTT V\n",
    "TTC F      CTC L      ATC I      GTC V\n",
    "TTA L      CTA L      ATA I      GTA V\n",
    "TTG L      CTG L      ATG M      GTG V\n",
    "TCT S      CCT P      ACT T      GCT A\n",
    "TCC S      CCC P      ACC T      GCC A\n",
    "TCA S      CCA P      ACA T      GCA A\n",
    "TCG S      CCG P      ACG T      GCG A\n",
    "TAT Y      CAT H      AAT N      GAT D\n",
    "TAC Y      CAC H      AAC N      GAC D\n",
    "CAA Q      AAA K      GAA E\n",
    "CAG Q      AAG K      GAG E\n",
    "TGT C      CGT R      AGT S      GGT G\n",
    "TGC C      CGC R      AGC S      GGC G\n",
    "CGA R      AGA R      GGA G\n",
    "TGG W      CGG R      AGG R      GGG G\n",
    "'''"
   ]
  },
  {
   "cell_type": "code",
   "execution_count": 50,
   "metadata": {},
   "outputs": [],
   "source": [
    "da_split = dna_amino.split()\n",
    "dna_base = da_split[::2]\n",
    "amino = da_split[1::2]\n",
    "aa = {dna_base[i]:amino[i] for i in range(len(dna_base))}"
   ]
  },
  {
   "cell_type": "code",
   "execution_count": 51,
   "metadata": {},
   "outputs": [
    {
     "data": {
      "text/plain": [
       "('W', 'R', 'P')"
      ]
     },
     "execution_count": 51,
     "metadata": {},
     "output_type": "execute_result"
    }
   ],
   "source": [
    "aa['TGG'], aa['CGG'], aa['CCA']"
   ]
  },
  {
   "cell_type": "code",
   "execution_count": 52,
   "metadata": {},
   "outputs": [
    {
     "data": {
      "text/plain": [
       "60"
      ]
     },
     "execution_count": 52,
     "metadata": {},
     "output_type": "execute_result"
    }
   ],
   "source": [
    "dna='TGCGGCCCTTACCCATATGTCTCTTACTGTCGCTTTCCGGGTGAATCCTATCCCATTCTA'\n",
    "len(dna)"
   ]
  },
  {
   "cell_type": "markdown",
   "metadata": {},
   "source": [
    "# define function dnaToAminoAcids(dna)\n",
    "- convert the dna to a string of amino acids\n",
    "- use aa dict"
   ]
  },
  {
   "cell_type": "code",
   "execution_count": 57,
   "metadata": {},
   "outputs": [],
   "source": [
    "def dnaToAminoAcids(dna):\n",
    "    amino_acids = [aa[dna[i:i+3]] for i in range(0,len(dna),3)]\n",
    "    return ''.join(amino_acids)"
   ]
  },
  {
   "cell_type": "code",
   "execution_count": 56,
   "metadata": {},
   "outputs": [
    {
     "data": {
      "text/plain": [
       "('CGPYPYVSYCRFPGESYPIL', 20)"
      ]
     },
     "execution_count": 56,
     "metadata": {},
     "output_type": "execute_result"
    }
   ],
   "source": [
    "acids=dnaToAminoAcids(dna)\n",
    "acids, len(acids)"
   ]
  },
  {
   "cell_type": "markdown",
   "metadata": {},
   "source": [
    "# If you have a minute or two...\n",
    "- look at week2-12-example-pythonic, see if you can figure out what it does\n",
    "- i'll go over it in class\n",
    "- this question is OPTIONAL, NOT GRADED"
   ]
  }
 ],
 "metadata": {
  "kernelspec": {
   "display_name": "Python 3",
   "language": "python",
   "name": "python3"
  },
  "language_info": {
   "codemirror_mode": {
    "name": "ipython",
    "version": 3
   },
   "file_extension": ".py",
   "mimetype": "text/x-python",
   "name": "python",
   "nbconvert_exporter": "python",
   "pygments_lexer": "ipython3",
   "version": "3.7.3"
  }
 },
 "nbformat": 4,
 "nbformat_minor": 2
}
