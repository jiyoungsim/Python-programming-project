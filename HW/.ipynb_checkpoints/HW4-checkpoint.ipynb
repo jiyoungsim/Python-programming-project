{
 "cells": [
  {
   "cell_type": "markdown",
   "metadata": {},
   "source": [
    "# Introduction to Python \n",
    "# Homework #4\n",
    "- This homework will be graded\n",
    "- You MUST submit on CourseWorks2 before it closes\n",
    "    - Verify your submission succeeded\n",
    "    - Email submissions are not accepted \n",
    "- Due Friday Oct 4 at 6pm"
   ]
  },
  {
   "cell_type": "markdown",
   "metadata": {},
   "source": [
    "# Problem 1,2,&3 - define printf function\n",
    "- args\n",
    "    - first arg is the control string\n",
    "    - rest of positional args are values to convert into strings, and insert into the control string, \n",
    "    - finally, optional keyword args\n",
    "- printf should return the converted string\n",
    "- several conversion directives:\n",
    "    - '{}' - call 'str' to get print string for the object\n",
    "    - '{b}' - convert an int into binary\n",
    "    - '{c}' - convert an int into string with ',' every 3 digits\n",
    "    - '{h}' - convert an int into hex\n",
    "    - '{o}' - convert an int into octal\n",
    "- keyword args:\n",
    "    - case='lower' - lower case the computed string\n",
    "    - case='upper' - upper case the computed string\n",
    "    - reverse=True - reverse the characters in the computed string\n",
    "- raise a TypeError if the number of conversion directives in the control string don't match the number of supplied args\n",
    "- raise a TypeError if the arg for an integer conversion is not an 'int'\n",
    "- you can only use the string format method for handling the '{c}'\n",
    "conversion\n",
    "- suggest first pulling out the conversion directives (the '{}', '{h}' etc), and expanding them (13, '0xd', etc). then you have to create the result string. two ways you might do this(examples in the hints):\n",
    "    - you can split the control string(which will drop the conversion directives), then riffle together the pieces of the control string and the expandsions together\n",
    "    - use re.sub to patch in the expansions\n",
    "\n",
    "\n",
    "\n",
    "# Hints"
   ]
  },
  {
   "cell_type": "code",
   "execution_count": 1,
   "metadata": {},
   "outputs": [],
   "source": [
    "# this regular expression pattern should be very useful,\n",
    "# when used with re.split and re.findall on the \n",
    "# printf control string\n",
    "\n",
    "# '[bcho]*' means zero or more instances of 'b', 'c', h' or 'o' \n",
    "# will match or '{[bcho]*}' will match '{}', '{b}', '{c}' etc.\n",
    "\n",
    "import re\n",
    "\n",
    "pattern = r'{[bcho]*}'\n",
    "\n",
    "control = 'need two values: 1={h} 2={} for this to work'"
   ]
  },
  {
   "cell_type": "code",
   "execution_count": 2,
   "metadata": {},
   "outputs": [
    {
     "data": {
      "text/plain": [
       "['{h}', '{}']"
      ]
     },
     "execution_count": 2,
     "metadata": {},
     "output_type": "execute_result"
    }
   ],
   "source": [
    "# re.findall could be useful\n",
    "\n",
    "re.findall(pattern, control)"
   ]
  },
  {
   "cell_type": "code",
   "execution_count": 3,
   "metadata": {},
   "outputs": [
    {
     "data": {
      "text/plain": [
       "'need two values: 1=replacement1 2={} for this to work'"
      ]
     },
     "execution_count": 3,
     "metadata": {},
     "output_type": "execute_result"
    }
   ],
   "source": [
    "# re.sub could be useful\n",
    "\n",
    "re.sub('{h}', 'replacement1', control, count = 1)"
   ]
  },
  {
   "cell_type": "code",
   "execution_count": 4,
   "metadata": {},
   "outputs": [
    {
     "data": {
      "text/plain": [
       "['need two values: 1=', ' 2=', ' for this to work']"
      ]
     },
     "execution_count": 4,
     "metadata": {},
     "output_type": "execute_result"
    }
   ],
   "source": [
    "# re.split could be useful\n",
    "\n",
    "# this regular expression could be helpful\n",
    "\n",
    "re.split(pattern, control)"
   ]
  },
  {
   "cell_type": "code",
   "execution_count": 5,
   "metadata": {},
   "outputs": [
    {
     "data": {
      "text/plain": [
       "('ab', 'mn', 'cd', 'xy')"
      ]
     },
     "execution_count": 5,
     "metadata": {},
     "output_type": "execute_result"
    }
   ],
   "source": [
    "# this version of riffle could be useful\n",
    "\n",
    "def riffle(*things):\n",
    "    riff = ()\n",
    "    for s in zip(*things):\n",
    "        riff += s\n",
    "    return riff\n",
    "\n",
    "riffle(['ab', 'cd'], ['mn', 'xy'])\n"
   ]
  },
  {
   "cell_type": "code",
   "execution_count": 6,
   "metadata": {},
   "outputs": [
    {
     "data": {
      "text/plain": [
       "'0xd'"
      ]
     },
     "execution_count": 6,
     "metadata": {},
     "output_type": "execute_result"
    }
   ],
   "source": [
    "# returns the hexadecmial(base 16) representation of an int \n",
    "# in a string\n",
    "\n",
    "hex(13)"
   ]
  },
  {
   "cell_type": "code",
   "execution_count": 7,
   "metadata": {},
   "outputs": [
    {
     "data": {
      "text/plain": [
       "'0b1101'"
      ]
     },
     "execution_count": 7,
     "metadata": {},
     "output_type": "execute_result"
    }
   ],
   "source": [
    "# returns binary(base 2) of an int\n",
    "\n",
    "bin(13)"
   ]
  },
  {
   "cell_type": "code",
   "execution_count": 8,
   "metadata": {},
   "outputs": [
    {
     "data": {
      "text/plain": [
       "'0o15'"
      ]
     },
     "execution_count": 8,
     "metadata": {},
     "output_type": "execute_result"
    }
   ],
   "source": [
    "# returns octal(base 8) of an int\n",
    "\n",
    "oct(13)"
   ]
  },
  {
   "cell_type": "code",
   "execution_count": 9,
   "metadata": {},
   "outputs": [
    {
     "data": {
      "text/plain": [
       "'2,343,243,434'"
      ]
     },
     "execution_count": 9,
     "metadata": {},
     "output_type": "execute_result"
    }
   ],
   "source": [
    "# the only allowed use of the 'format' method in this problem\n",
    "\n",
    "'{:,}'.format(2343243434)"
   ]
  },
  {
   "cell_type": "markdown",
   "metadata": {},
   "source": [
    "### printf function defined"
   ]
  },
  {
   "cell_type": "code",
   "execution_count": 10,
   "metadata": {},
   "outputs": [],
   "source": [
    "def arg2str(args, directives):\n",
    "    output = []\n",
    "    for arg, directive in zip(args, directives):\n",
    "        if directive == '{}':\n",
    "            output.append(str(arg))\n",
    "            continue\n",
    "        elif not isinstance(arg, int):\n",
    "            raise TypeError(\"arg for integer conversion was not an int\")\n",
    "        if directive == '{b}':\n",
    "            output.append(str(bin(arg)))\n",
    "            continue\n",
    "        if directive == '{c}':\n",
    "            output.append('{:,}'.format(arg))\n",
    "            continue\n",
    "        if directive == '{h}':\n",
    "            output.append(str(hex(arg)))\n",
    "            continue\n",
    "        if directive == '{o}':\n",
    "            output.append(str(oct(arg)))\n",
    "            continue\n",
    "    return output\n",
    "\n",
    "\n",
    "def printf(control, *args, **kw):\n",
    "    pattern = r'{[bcho]*}'\n",
    "    directives = re.findall(pattern, control)\n",
    "    if (len(directives) != len(args)):\n",
    "        raise TypeError(\"Number of conversion directives does not equal the number of args\")\n",
    "    \n",
    "    conversion = arg2str(args, directives)\n",
    "    control_split = re.split(pattern, control)\n",
    "    \n",
    "    while len(conversion) > len(control_split):\n",
    "        control_split.append('')\n",
    "    while len(conversion) < len(control_split):\n",
    "        conversion.append('')\n",
    "    output = riffle(control_split, conversion)\n",
    "    output = ''.join(output)\n",
    "    \n",
    "    if kw.get('case', None) == 'lower':\n",
    "        output  = output.lower()\n",
    "    elif kw.get('case', None) == 'upper':\n",
    "        output = output.upper()\n",
    "    if kw.get('reverse', None) == True:\n",
    "        output = output[::-1]\n",
    "    print(output)"
   ]
  },
  {
   "cell_type": "markdown",
   "metadata": {},
   "source": [
    "# errors \n",
    "\n",
    "- number of args and conversions don't match -\n",
    "should raise a TypeError:"
   ]
  },
  {
   "cell_type": "code",
   "execution_count": 11,
   "metadata": {},
   "outputs": [
    {
     "ename": "TypeError",
     "evalue": "Number of conversion directives does not equal the number of args",
     "output_type": "error",
     "traceback": [
      "\u001b[1;31m---------------------------------------------------------------------------\u001b[0m",
      "\u001b[1;31mTypeError\u001b[0m                                 Traceback (most recent call last)",
      "\u001b[1;32m<ipython-input-11-c5931415a8f7>\u001b[0m in \u001b[0;36m<module>\u001b[1;34m\u001b[0m\n\u001b[1;32m----> 1\u001b[1;33m \u001b[0mprintf\u001b[0m\u001b[1;33m(\u001b[0m\u001b[1;34m' {} {}'\u001b[0m\u001b[1;33m,\u001b[0m \u001b[1;36m3\u001b[0m\u001b[1;33m)\u001b[0m\u001b[1;33m\u001b[0m\u001b[1;33m\u001b[0m\u001b[0m\n\u001b[0m",
      "\u001b[1;32m<ipython-input-10-fb1e624aff95>\u001b[0m in \u001b[0;36mprintf\u001b[1;34m(control, *args, **kw)\u001b[0m\n\u001b[0;32m     26\u001b[0m     \u001b[0mdirectives\u001b[0m \u001b[1;33m=\u001b[0m \u001b[0mre\u001b[0m\u001b[1;33m.\u001b[0m\u001b[0mfindall\u001b[0m\u001b[1;33m(\u001b[0m\u001b[0mpattern\u001b[0m\u001b[1;33m,\u001b[0m \u001b[0mcontrol\u001b[0m\u001b[1;33m)\u001b[0m\u001b[1;33m\u001b[0m\u001b[1;33m\u001b[0m\u001b[0m\n\u001b[0;32m     27\u001b[0m     \u001b[1;32mif\u001b[0m \u001b[1;33m(\u001b[0m\u001b[0mlen\u001b[0m\u001b[1;33m(\u001b[0m\u001b[0mdirectives\u001b[0m\u001b[1;33m)\u001b[0m \u001b[1;33m!=\u001b[0m \u001b[0mlen\u001b[0m\u001b[1;33m(\u001b[0m\u001b[0margs\u001b[0m\u001b[1;33m)\u001b[0m\u001b[1;33m)\u001b[0m\u001b[1;33m:\u001b[0m\u001b[1;33m\u001b[0m\u001b[1;33m\u001b[0m\u001b[0m\n\u001b[1;32m---> 28\u001b[1;33m         \u001b[1;32mraise\u001b[0m \u001b[0mTypeError\u001b[0m\u001b[1;33m(\u001b[0m\u001b[1;34m\"Number of conversion directives does not equal the number of args\"\u001b[0m\u001b[1;33m)\u001b[0m\u001b[1;33m\u001b[0m\u001b[1;33m\u001b[0m\u001b[0m\n\u001b[0m\u001b[0;32m     29\u001b[0m \u001b[1;33m\u001b[0m\u001b[0m\n\u001b[0;32m     30\u001b[0m     \u001b[0mconversion\u001b[0m \u001b[1;33m=\u001b[0m \u001b[0marg2str\u001b[0m\u001b[1;33m(\u001b[0m\u001b[0margs\u001b[0m\u001b[1;33m,\u001b[0m \u001b[0mdirectives\u001b[0m\u001b[1;33m)\u001b[0m\u001b[1;33m\u001b[0m\u001b[1;33m\u001b[0m\u001b[0m\n",
      "\u001b[1;31mTypeError\u001b[0m: Number of conversion directives does not equal the number of args"
     ]
    }
   ],
   "source": [
    "printf(' {} {}', 3)"
   ]
  },
  {
   "cell_type": "markdown",
   "metadata": {},
   "source": [
    "- non integer supplied for integer conversion - should raise a TypeError:"
   ]
  },
  {
   "cell_type": "code",
   "execution_count": 12,
   "metadata": {},
   "outputs": [
    {
     "ename": "TypeError",
     "evalue": "arg for integer conversion was not an int",
     "output_type": "error",
     "traceback": [
      "\u001b[1;31m---------------------------------------------------------------------------\u001b[0m",
      "\u001b[1;31mTypeError\u001b[0m                                 Traceback (most recent call last)",
      "\u001b[1;32m<ipython-input-12-95c9dc16e093>\u001b[0m in \u001b[0;36m<module>\u001b[1;34m\u001b[0m\n\u001b[1;32m----> 1\u001b[1;33m \u001b[0mprintf\u001b[0m\u001b[1;33m(\u001b[0m\u001b[1;34m'{c}'\u001b[0m\u001b[1;33m,\u001b[0m \u001b[0msorted\u001b[0m\u001b[1;33m)\u001b[0m\u001b[1;33m\u001b[0m\u001b[1;33m\u001b[0m\u001b[0m\n\u001b[0m",
      "\u001b[1;32m<ipython-input-10-fb1e624aff95>\u001b[0m in \u001b[0;36mprintf\u001b[1;34m(control, *args, **kw)\u001b[0m\n\u001b[0;32m     28\u001b[0m         \u001b[1;32mraise\u001b[0m \u001b[0mTypeError\u001b[0m\u001b[1;33m(\u001b[0m\u001b[1;34m\"Number of conversion directives does not equal the number of args\"\u001b[0m\u001b[1;33m)\u001b[0m\u001b[1;33m\u001b[0m\u001b[1;33m\u001b[0m\u001b[0m\n\u001b[0;32m     29\u001b[0m \u001b[1;33m\u001b[0m\u001b[0m\n\u001b[1;32m---> 30\u001b[1;33m     \u001b[0mconversion\u001b[0m \u001b[1;33m=\u001b[0m \u001b[0marg2str\u001b[0m\u001b[1;33m(\u001b[0m\u001b[0margs\u001b[0m\u001b[1;33m,\u001b[0m \u001b[0mdirectives\u001b[0m\u001b[1;33m)\u001b[0m\u001b[1;33m\u001b[0m\u001b[1;33m\u001b[0m\u001b[0m\n\u001b[0m\u001b[0;32m     31\u001b[0m     \u001b[0mcontrol_split\u001b[0m \u001b[1;33m=\u001b[0m \u001b[0mre\u001b[0m\u001b[1;33m.\u001b[0m\u001b[0msplit\u001b[0m\u001b[1;33m(\u001b[0m\u001b[0mpattern\u001b[0m\u001b[1;33m,\u001b[0m \u001b[0mcontrol\u001b[0m\u001b[1;33m)\u001b[0m\u001b[1;33m\u001b[0m\u001b[1;33m\u001b[0m\u001b[0m\n\u001b[0;32m     32\u001b[0m \u001b[1;33m\u001b[0m\u001b[0m\n",
      "\u001b[1;32m<ipython-input-10-fb1e624aff95>\u001b[0m in \u001b[0;36marg2str\u001b[1;34m(args, directives)\u001b[0m\n\u001b[0;32m      6\u001b[0m             \u001b[1;32mcontinue\u001b[0m\u001b[1;33m\u001b[0m\u001b[1;33m\u001b[0m\u001b[0m\n\u001b[0;32m      7\u001b[0m         \u001b[1;32melif\u001b[0m \u001b[1;32mnot\u001b[0m \u001b[0misinstance\u001b[0m\u001b[1;33m(\u001b[0m\u001b[0marg\u001b[0m\u001b[1;33m,\u001b[0m \u001b[0mint\u001b[0m\u001b[1;33m)\u001b[0m\u001b[1;33m:\u001b[0m\u001b[1;33m\u001b[0m\u001b[1;33m\u001b[0m\u001b[0m\n\u001b[1;32m----> 8\u001b[1;33m             \u001b[1;32mraise\u001b[0m \u001b[0mTypeError\u001b[0m\u001b[1;33m(\u001b[0m\u001b[1;34m\"arg for integer conversion was not an int\"\u001b[0m\u001b[1;33m)\u001b[0m\u001b[1;33m\u001b[0m\u001b[1;33m\u001b[0m\u001b[0m\n\u001b[0m\u001b[0;32m      9\u001b[0m         \u001b[1;32mif\u001b[0m \u001b[0mdirective\u001b[0m \u001b[1;33m==\u001b[0m \u001b[1;34m'{b}'\u001b[0m\u001b[1;33m:\u001b[0m\u001b[1;33m\u001b[0m\u001b[1;33m\u001b[0m\u001b[0m\n\u001b[0;32m     10\u001b[0m             \u001b[0moutput\u001b[0m\u001b[1;33m.\u001b[0m\u001b[0mappend\u001b[0m\u001b[1;33m(\u001b[0m\u001b[0mstr\u001b[0m\u001b[1;33m(\u001b[0m\u001b[0mbin\u001b[0m\u001b[1;33m(\u001b[0m\u001b[0marg\u001b[0m\u001b[1;33m)\u001b[0m\u001b[1;33m)\u001b[0m\u001b[1;33m)\u001b[0m\u001b[1;33m\u001b[0m\u001b[1;33m\u001b[0m\u001b[0m\n",
      "\u001b[1;31mTypeError\u001b[0m: arg for integer conversion was not an int"
     ]
    }
   ],
   "source": [
    "printf('{c}', sorted)"
   ]
  },
  {
   "cell_type": "code",
   "execution_count": 13,
   "metadata": {},
   "outputs": [
    {
     "name": "stdout",
     "output_type": "stream",
     "text": [
      "need two values: 1=15  2=<built-in function sorted>\n"
     ]
    }
   ],
   "source": [
    "# need two args, got two\n",
    "\n",
    "printf('need two values: 1={}  2={}', 15, sorted)"
   ]
  },
  {
   "cell_type": "code",
   "execution_count": 14,
   "metadata": {},
   "outputs": [
    {
     "name": "stdout",
     "output_type": "stream",
     "text": [
      "0O15 HI 0B1101 THERE 0XD BIG=983,749,739,749,734EOF\n"
     ]
    }
   ],
   "source": [
    "printf('{o} Hi {b} There {h} big={c}EOF', 13, 13, 13, 983749739749734, case='upper')"
   ]
  },
  {
   "cell_type": "code",
   "execution_count": 15,
   "metadata": {},
   "outputs": [
    {
     "name": "stdout",
     "output_type": "stream",
     "text": [
      "dx0 ereht 1011b0 ih 51o0\n"
     ]
    }
   ],
   "source": [
    "printf('{o} Hi {b} There {h}', 13, 13, 13, case='lower', reverse=True)"
   ]
  },
  {
   "cell_type": "markdown",
   "metadata": {},
   "source": [
    "# Problem 4 - define generator decimals()\n",
    "- define a 'decimals' generator function, that 'generates' the decimal expansion digits of 1/n, where n is an integer greater than 1\n",
    "- if the decimal expansion terminates, like 1/8 = .125, the generator should terminate. otherwise, like for 1/3=.333..., the generator should never stop\n",
    "- use long division to compute the expansion - it is very simple"
   ]
  },
  {
   "cell_type": "markdown",
   "metadata": {},
   "source": [
    "## Tips"
   ]
  },
  {
   "cell_type": "code",
   "execution_count": 44,
   "metadata": {},
   "outputs": [],
   "source": [
    "# you can terminate a generator by using 'return',\n",
    "# or falling off the end of the generator\n",
    "\n",
    "def g1():\n",
    "    yield(1)\n",
    "    yield(2)\n",
    "    return\n",
    "    yield(3)\n",
    "\n",
    "def g2():\n",
    "    yield(4)\n",
    "    yield(5)"
   ]
  },
  {
   "cell_type": "code",
   "execution_count": 17,
   "metadata": {},
   "outputs": [
    {
     "data": {
      "text/plain": [
       "([1, 2], [4, 5])"
      ]
     },
     "execution_count": 17,
     "metadata": {},
     "output_type": "execute_result"
    }
   ],
   "source": [
    "# can get the elements from a \n",
    "# FINITE length generator with 'list'\n",
    "\n",
    "list(g1()),list(g2()) "
   ]
  },
  {
   "cell_type": "code",
   "execution_count": 18,
   "metadata": {},
   "outputs": [
    {
     "data": {
      "text/plain": [
       "(2, 3)"
      ]
     },
     "execution_count": 18,
     "metadata": {},
     "output_type": "execute_result"
    }
   ],
   "source": [
    "# divmod gives integer quotient and remainder\n",
    "\n",
    "divmod(13, 5)"
   ]
  },
  {
   "cell_type": "code",
   "execution_count": 19,
   "metadata": {},
   "outputs": [
    {
     "name": "stdout",
     "output_type": "stream",
     "text": [
      "1 2\n",
      "2 4\n",
      "5 0\n"
     ]
    }
   ],
   "source": [
    "# example: 1/8 = .125\n",
    "# the digits of the expansion are the quotients\n",
    "\n",
    "r = 10\n",
    "q,r = divmod(r,8)\n",
    "print(q,r)\n",
    "r *= 10\n",
    "q,r = divmod(r,8)\n",
    "print(q,r)\n",
    "r *= 10\n",
    "q,r = divmod(r,8)\n",
    "print(q,r)\n",
    "# r == 0, so done"
   ]
  },
  {
   "cell_type": "code",
   "execution_count": 20,
   "metadata": {},
   "outputs": [
    {
     "name": "stdout",
     "output_type": "stream",
     "text": [
      "3 1\n",
      "3 1\n"
     ]
    }
   ],
   "source": [
    "# 1/3 = .333...\n",
    "\n",
    "r = 10\n",
    "q,r = divmod(r,3)\n",
    "print(q,r)\n",
    "r *= 10\n",
    "q,r = divmod(r,3)\n",
    "print(q, r)\n",
    "\n",
    "# (q,r) pairs have repeated, will never terminate"
   ]
  },
  {
   "cell_type": "markdown",
   "metadata": {},
   "source": [
    "### decimals function defined"
   ]
  },
  {
   "cell_type": "code",
   "execution_count": 56,
   "metadata": {},
   "outputs": [],
   "source": [
    "def decimals(n):\n",
    "    r = 10\n",
    "    while (r != 0):\n",
    "        q, r = divmod(r, n)\n",
    "        yield(q)\n",
    "        r *= 10"
   ]
  },
  {
   "cell_type": "code",
   "execution_count": 57,
   "metadata": {},
   "outputs": [
    {
     "data": {
      "text/plain": [
       "[1, 2, 5]"
      ]
     },
     "execution_count": 57,
     "metadata": {},
     "output_type": "execute_result"
    }
   ],
   "source": [
    "# finite generator\n",
    "\n",
    "list(decimals(8))"
   ]
  },
  {
   "cell_type": "code",
   "execution_count": 58,
   "metadata": {},
   "outputs": [
    {
     "data": {
      "text/plain": [
       "[3, 3, 3, 3]"
      ]
     },
     "execution_count": 58,
     "metadata": {},
     "output_type": "execute_result"
    }
   ],
   "source": [
    "# infinite generator\n",
    "# can't call 'list' or 'for' on it\n",
    "\n",
    "g = decimals(3)\n",
    "[next(g), next(g), next(g), next(g)]"
   ]
  },
  {
   "cell_type": "markdown",
   "metadata": {},
   "source": [
    "# function genlimit\n",
    "- to protect ourselves from infinite generators,\n",
    "we could define 'genlimit(g, limit)' which returns a generator that yields at most 'limit' number of values from a generator 'g'"
   ]
  },
  {
   "cell_type": "code",
   "execution_count": 24,
   "metadata": {},
   "outputs": [],
   "source": [
    "def genlimit(g, limit):\n",
    "    for v,r in zip(g, range(limit)):\n",
    "        yield(v)"
   ]
  },
  {
   "cell_type": "code",
   "execution_count": 25,
   "metadata": {},
   "outputs": [
    {
     "data": {
      "text/plain": [
       "[1, 2]"
      ]
     },
     "execution_count": 25,
     "metadata": {},
     "output_type": "execute_result"
    }
   ],
   "source": [
    "list(genlimit(decimals(8), 2))"
   ]
  },
  {
   "cell_type": "code",
   "execution_count": 26,
   "metadata": {},
   "outputs": [
    {
     "data": {
      "text/plain": [
       "[1, 2, 5]"
      ]
     },
     "execution_count": 26,
     "metadata": {},
     "output_type": "execute_result"
    }
   ],
   "source": [
    "list(genlimit(decimals(8), 5))"
   ]
  },
  {
   "cell_type": "code",
   "execution_count": 27,
   "metadata": {},
   "outputs": [
    {
     "data": {
      "text/plain": [
       "[3, 3, 3, 3, 3]"
      ]
     },
     "execution_count": 27,
     "metadata": {},
     "output_type": "execute_result"
    }
   ],
   "source": [
    "list(genlimit(decimals(3), 5))"
   ]
  },
  {
   "cell_type": "code",
   "execution_count": 28,
   "metadata": {},
   "outputs": [
    {
     "data": {
      "text/plain": [
       "[0, 1, 2]"
      ]
     },
     "execution_count": 28,
     "metadata": {},
     "output_type": "execute_result"
    }
   ],
   "source": [
    "# works with any interator\n",
    "\n",
    "list(genlimit(iter(range(30)), 3))"
   ]
  },
  {
   "cell_type": "markdown",
   "metadata": {},
   "source": [
    "# Problem 5 - define generator decimals2\n",
    "- deal with repeated decimals\n",
    "- genlimit is useful, but never sure what we're missing with an arbitrary limit\n",
    "- since 1/n is a rational number, its decimal expansion must eventually repeat(unlike irrational numbers like Pi) \n",
    "- if the decimal expansion is finite, decimals2 should return a list of the digits in the expansion\n",
    "- if the decimal expansion repeats, decimals2 should return a list of the digits up to the point it starts repeating. then the final yield return a list of the repeating sequence of digits\n",
    "- note in some cases, like 1/6, 1/12, 1/28, there are\n",
    " some initial digits that are not part of the repeat pattern\n",
    "- hint - keep a list, 'seen', of the [quotient, remainder] pairs as you generate digits. if you generate a new pair that is already in 'seen', you know you have started to repeat. \n"
   ]
  },
  {
   "cell_type": "code",
   "execution_count": 59,
   "metadata": {},
   "outputs": [],
   "source": [
    "def decimals2(n):\n",
    "    seen = []\n",
    "    r = 10\n",
    "    while (r != 0):\n",
    "        q, r = divmod(r, n)\n",
    "        if [q,r] in seen:\n",
    "            beg = seen.index([q,r])\n",
    "            yield([q for q,r in seen[beg:]])\n",
    "            return\n",
    "        seen.append([q,r])\n",
    "        yield(q)\n",
    "        r *= 10"
   ]
  },
  {
   "cell_type": "code",
   "execution_count": 60,
   "metadata": {},
   "outputs": [
    {
     "data": {
      "text/plain": [
       "[0, 3, 5, 7, 1, 4, 2, 8, [5, 7, 1, 4, 2, 8]]"
      ]
     },
     "execution_count": 60,
     "metadata": {},
     "output_type": "execute_result"
    }
   ],
   "source": [
    "list(decimals2(28))"
   ]
  },
  {
   "cell_type": "code",
   "execution_count": 61,
   "metadata": {},
   "outputs": [
    {
     "name": "stdout",
     "output_type": "stream",
     "text": [
      "   Expansion of 1/2:\n",
      "[5]\n",
      "   Expansion of 1/3:\n",
      "[3, [3]]\n",
      "   Expansion of 1/4:\n",
      "[2, 5]\n",
      "   Expansion of 1/5:\n",
      "[2]\n",
      "   Expansion of 1/6:\n",
      "[1, 6, [6]]\n",
      "   Expansion of 1/7:\n",
      "[1, 4, 2, 8, 5, 7, [1, 4, 2, 8, 5, 7]]\n",
      "   Expansion of 1/8:\n",
      "[1, 2, 5]\n",
      "   Expansion of 1/9:\n",
      "[1, [1]]\n",
      "   Expansion of 1/10:\n",
      "[1]\n",
      "   Expansion of 1/11:\n",
      "[0, 9, [0, 9]]\n",
      "   Expansion of 1/12:\n",
      "[0, 8, 3, [3]]\n",
      "   Expansion of 1/13:\n",
      "[0, 7, 6, 9, 2, 3, [0, 7, 6, 9, 2, 3]]\n",
      "   Expansion of 1/14:\n",
      "[0, 7, 1, 4, 2, 8, 5, [7, 1, 4, 2, 8, 5]]\n",
      "   Expansion of 1/15:\n",
      "[0, 6, [6]]\n",
      "   Expansion of 1/16:\n",
      "[0, 6, 2, 5]\n",
      "   Expansion of 1/17:\n",
      "[0, 5, 8, 8, 2, 3, 5, 2, 9, 4, 1, 1, 7, 6, 4, 7, [0, 5, 8, 8, 2, 3, 5, 2, 9, 4,\n",
      "1, 1, 7, 6, 4, 7]]\n",
      "   Expansion of 1/18:\n",
      "[0, 5, [5]]\n",
      "   Expansion of 1/19:\n",
      "[0, 5, 2, 6, 3, 1, 5, 7, 8, 9, 4, 7, 3, 6, 8, 4, 2, 1, [0, 5, 2, 6, 3, 1, 5, 7,\n",
      "8, 9, 4, 7, 3, 6, 8, 4, 2, 1]]\n",
      "   Expansion of 1/20:\n",
      "[0, 5]\n",
      "   Expansion of 1/21:\n",
      "[0, 4, 7, 6, 1, 9, [0, 4, 7, 6, 1, 9]]\n",
      "   Expansion of 1/22:\n",
      "[0, 4, 5, [4, 5]]\n",
      "   Expansion of 1/23:\n",
      "[0, 4, 3, 4, 7, 8, 2, 6, 0, 8, 6, 9, 5, 6, 5, 2, 1, 7, 3, 9, 1, 3, [0, 4, 3, 4,\n",
      "7, 8, 2, 6, 0, 8, 6, 9, 5, 6, 5, 2, 1, 7, 3, 9, 1, 3]]\n",
      "   Expansion of 1/24:\n",
      "[0, 4, 1, 6, [6]]\n",
      "   Expansion of 1/25:\n",
      "[0, 4]\n",
      "   Expansion of 1/26:\n",
      "[0, 3, 8, 4, 6, 1, 5, [3, 8, 4, 6, 1, 5]]\n",
      "   Expansion of 1/27:\n",
      "[0, 3, 7, [0, 3, 7]]\n",
      "   Expansion of 1/28:\n",
      "[0, 3, 5, 7, 1, 4, 2, 8, [5, 7, 1, 4, 2, 8]]\n",
      "   Expansion of 1/29:\n",
      "[0, 3, 4, 4, 8, 2, 7, 5, 8, 6, 2, 0, 6, 8, 9, 6, 5, 5, 1, 7, 2, 4, 1, 3, 7, 9,\n",
      "3, 1, [0, 3, 4, 4, 8, 2, 7, 5, 8, 6, 2, 0, 6, 8, 9, 6, 5, 5, 1, 7, 2, 4, 1, 3,\n",
      "7, 9, 3, 1]]\n"
     ]
    }
   ],
   "source": [
    "import textwrap\n",
    "\n",
    "for j in range(2, 30):\n",
    "    d = list(decimals2(j))\n",
    "    print('   Expansion of 1/' + str(j) + ':')\n",
    "    # textwrap hack needed because lines don't wrap in pdf version\n",
    "    print( textwrap.fill(str(d), 80))\n"
   ]
  }
 ],
 "metadata": {
  "anaconda-cloud": {},
  "kernelspec": {
   "display_name": "Python 3",
   "language": "python",
   "name": "python3"
  },
  "language_info": {
   "codemirror_mode": {
    "name": "ipython",
    "version": 3
   },
   "file_extension": ".py",
   "mimetype": "text/x-python",
   "name": "python",
   "nbconvert_exporter": "python",
   "pygments_lexer": "ipython3",
   "version": "3.7.3"
  },
  "name": "_merged_merged"
 },
 "nbformat": 4,
 "nbformat_minor": 1
}
